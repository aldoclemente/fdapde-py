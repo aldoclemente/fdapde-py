{
 "cells": [
  {
   "cell_type": "code",
   "execution_count": 1,
   "id": "8516fde4-45da-4bfb-b6d3-8ed0b61d70e2",
   "metadata": {},
   "outputs": [],
   "source": [
    "import fdapdepy as fdapde\n",
    "import numpy as np\n",
    "\n",
    "import matplotlib.pyplot as plt\n",
    "from matplotlib.tri import Triangulation\n",
    "\n",
    "# mesh\n",
    "nodes = np.loadtxt(\"unit_square/points.txt\", dtype=float)\n",
    "triangles = np.loadtxt(\"unit_square/elements.txt\", dtype=int)\n",
    "triangles = triangles - 1 # sempre stessa storia\n",
    "boundary = np.loadtxt(\"unit_square/boundary.txt\", dtype=int)\n",
    "nodes.shape\n",
    "\n",
    "mesh = fdapde.domain(nodes, triangles, boundary)\n",
    "basis = fdapde.functional_basis(mesh, 1)\n"
   ]
  },
  {
   "cell_type": "code",
   "execution_count": 5,
   "id": "19c887b2-6fb6-47ac-b9b3-0d4ae0946d35",
   "metadata": {},
   "outputs": [
    {
     "data": {
      "text/plain": [
       "['__class__',\n",
       " '__class_getitem__',\n",
       " '__contains__',\n",
       " '__delattr__',\n",
       " '__delitem__',\n",
       " '__dir__',\n",
       " '__doc__',\n",
       " '__eq__',\n",
       " '__format__',\n",
       " '__ge__',\n",
       " '__getattribute__',\n",
       " '__getitem__',\n",
       " '__gt__',\n",
       " '__hash__',\n",
       " '__init__',\n",
       " '__init_subclass__',\n",
       " '__ior__',\n",
       " '__iter__',\n",
       " '__le__',\n",
       " '__len__',\n",
       " '__lt__',\n",
       " '__ne__',\n",
       " '__new__',\n",
       " '__or__',\n",
       " '__reduce__',\n",
       " '__reduce_ex__',\n",
       " '__repr__',\n",
       " '__reversed__',\n",
       " '__ror__',\n",
       " '__setattr__',\n",
       " '__setitem__',\n",
       " '__sizeof__',\n",
       " '__str__',\n",
       " '__subclasshook__',\n",
       " 'clear',\n",
       " 'copy',\n",
       " 'fromkeys',\n",
       " 'get',\n",
       " 'items',\n",
       " 'keys',\n",
       " 'pop',\n",
       " 'popitem',\n",
       " 'setdefault',\n",
       " 'update',\n",
       " 'values']"
      ]
     },
     "execution_count": 5,
     "metadata": {},
     "output_type": "execute_result"
    }
   ],
   "source": [
    "pde_params = {\"diff\": 1.}\n",
    "dir(pde_params)"
   ]
  },
  {
   "cell_type": "code",
   "execution_count": 6,
   "id": "5119fa11-5d74-4bd0-8815-64fd6dc53b4d",
   "metadata": {},
   "outputs": [],
   "source": [
    "# pde_type = 1 simple laplacian\n",
    "# -lapl(u) = f\n",
    "#  u = 0 \n",
    "# u_ex = sin(pi x) sin(pi y)\n",
    "u_ex = np.sin(np.pi * mesh.nodes()[:,0]) * np.sin(np.pi*mesh.nodes()[:,1])\n",
    "f = (1+np.pi*np.pi) * np.sin(np.pi * mesh.nodes()[:,0]) * np.sin(np.pi*mesh.nodes()[:,1])"
   ]
  },
  {
   "cell_type": "code",
   "execution_count": 7,
   "id": "7c550af0-8f78-4426-a4cf-be11bdf14ec4",
   "metadata": {},
   "outputs": [
    {
     "ename": "RuntimeError",
     "evalue": "Unable to cast Python instance of type <class 'float'> to C++ type '?' (#define PYBIND11_DETAILED_ERROR_MESSAGES or compile in debug mode for details)",
     "output_type": "error",
     "traceback": [
      "\u001b[0;31m---------------------------------------------------------------------------\u001b[0m",
      "\u001b[0;31mRuntimeError\u001b[0m                              Traceback (most recent call last)",
      "Cell \u001b[0;32mIn[7], line 2\u001b[0m\n\u001b[1;32m      1\u001b[0m pde_type \u001b[38;5;241m=\u001b[39m \u001b[38;5;241m1\u001b[39m\n\u001b[0;32m----> 2\u001b[0m _pde \u001b[38;5;241m=\u001b[39m \u001b[43mfdapde\u001b[49m\u001b[38;5;241;43m.\u001b[39;49m\u001b[43mcpp_pde_2_2_1\u001b[49m\u001b[43m(\u001b[49m\u001b[43mmesh\u001b[49m\u001b[43m,\u001b[49m\u001b[43m \u001b[49m\u001b[38;5;28;43mint\u001b[39;49m\u001b[43m(\u001b[49m\u001b[38;5;241;43m1\u001b[39;49m\u001b[43m)\u001b[49m\u001b[43m,\u001b[49m\u001b[43m \u001b[49m\u001b[43mpde_params\u001b[49m\u001b[43m)\u001b[49m\n",
      "\u001b[0;31mRuntimeError\u001b[0m: Unable to cast Python instance of type <class 'float'> to C++ type '?' (#define PYBIND11_DETAILED_ERROR_MESSAGES or compile in debug mode for details)"
     ]
    }
   ],
   "source": [
    "pde_type = 1\n",
    "_pde = fdapde.cpp_pde_2_2_1(mesh, int(1), pde_params)"
   ]
  }
 ],
 "metadata": {
  "kernelspec": {
   "display_name": "Python 3 (ipykernel)",
   "language": "python",
   "name": "python3"
  },
  "language_info": {
   "codemirror_mode": {
    "name": "ipython",
    "version": 3
   },
   "file_extension": ".py",
   "mimetype": "text/x-python",
   "name": "python",
   "nbconvert_exporter": "python",
   "pygments_lexer": "ipython3",
   "version": "3.10.12"
  }
 },
 "nbformat": 4,
 "nbformat_minor": 5
}
