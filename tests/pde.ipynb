{
 "cells": [
  {
   "cell_type": "code",
   "execution_count": 1,
   "id": "8516fde4-45da-4bfb-b6d3-8ed0b61d70e2",
   "metadata": {},
   "outputs": [
    {
     "name": "stdout",
     "output_type": "stream",
     "text": [
      "2 2\n",
      "2 2 <class 'fdapdepy.domain.domain2d'>\n"
     ]
    }
   ],
   "source": [
    "import fdapdepy as fdapde\n",
    "import numpy as np\n",
    "\n",
    "import matplotlib.pyplot as plt\n",
    "from matplotlib.tri import Triangulation\n",
    "\n",
    "# mesh\n",
    "nodes = np.loadtxt(\"unit_square/points.txt\", dtype=float)\n",
    "triangles = np.loadtxt(\"unit_square/elements.txt\", dtype=int)\n",
    "triangles = triangles - 1 # sempre stessa storia\n",
    "boundary = np.loadtxt(\"unit_square/boundary.txt\", dtype=int)\n",
    "print(nodes.shape[1], triangles.shape[1]-1)\n",
    "mesh = fdapde.domain(nodes, triangles, boundary)\n",
    "print(mesh.embed_dim, mesh.local_dim, type(mesh))\n"
   ]
  },
  {
   "cell_type": "code",
   "execution_count": 2,
   "id": "692aa686-9dbd-45ce-a546-b71ad4add177",
   "metadata": {},
   "outputs": [
    {
     "data": {
      "text/plain": [
       "[<matplotlib.lines.Line2D at 0x73cd7003fd60>,\n",
       " <matplotlib.lines.Line2D at 0x73cd7003ffd0>]"
      ]
     },
     "execution_count": 2,
     "metadata": {},
     "output_type": "execute_result"
    },
    {
     "data": {
      "image/png": "[encoded data removed]",
      "text/plain": [
       "<Figure size 640x480 with 1 Axes>"
      ]
     },
     "metadata": {},
     "output_type": "display_data"
    }
   ],
   "source": [
    "triangulation = Triangulation(mesh.nodes()[:,0], mesh.nodes()[:,1], mesh.elements())\n",
    "\n",
    "fig, ax = plt.subplots()\n",
    "ax.triplot(triangulation)"
   ]
  },
  {
   "cell_type": "code",
   "execution_count": 3,
   "id": "19c887b2-6fb6-47ac-b9b3-0d4ae0946d35",
   "metadata": {},
   "outputs": [],
   "source": [
    "basis = fdapde.functional_basis(mesh,1)"
   ]
  },
  {
   "cell_type": "code",
   "execution_count": 4,
   "id": "5119fa11-5d74-4bd0-8815-64fd6dc53b4d",
   "metadata": {},
   "outputs": [],
   "source": [
    "# pde_type = 1 simple laplacian\n",
    "# -lapl(u) = f\n",
    "#  u = 0 \n",
    "# u_ex = sin(pi x) sin(pi y)\n",
    "u_ex = np.sin(np.pi * mesh.nodes()[:,0]) * np.sin(np.pi*mesh.nodes()[:,1])"
   ]
  },
  {
   "cell_type": "code",
   "execution_count": 6,
   "id": "86d79758-761b-4552-bebd-d1878b3cf55e",
   "metadata": {},
   "outputs": [
    {
     "name": "stdout",
     "output_type": "stream",
     "text": [
      "True\n",
      "1\n",
      "{'laplacian'}\n",
      "{'', 'laplacian'}\n"
     ]
    }
   ],
   "source": [
    "# f\n",
    "f = fdapde.function(basis)\n",
    "lapl_f = -fdapde.laplacian(f)\n",
    "type(lapl_f)\n",
    "\n",
    "lapl_f.params.keys()\n",
    "print( len(set(lapl_f.params.keys()) & set(('laplacian', ''))) == 1 )\n",
    "print(len(set(lapl_f.params.keys()) & set((\"laplacian\", \"\"))))\n",
    "\n",
    "print(set(lapl_f.params.keys()))\n",
    "print(set((\"laplacian\", \"\")))"
   ]
  },
  {
   "cell_type": "code",
   "execution_count": 7,
   "id": "7c550af0-8f78-4426-a4cf-be11bdf14ec4",
   "metadata": {},
   "outputs": [
    {
     "ename": "KeyError",
     "evalue": "'diff'",
     "output_type": "error",
     "traceback": [
      "\u001b[0;31m---------------------------------------------------------------------------\u001b[0m",
      "\u001b[0;31mKeyError\u001b[0m                                  Traceback (most recent call last)",
      "Cell \u001b[0;32mIn[7], line 1\u001b[0m\n\u001b[0;32m----> 1\u001b[0m pde \u001b[38;5;241m=\u001b[39m \u001b[43mfdapde\u001b[49m\u001b[38;5;241;43m.\u001b[39;49m\u001b[43mpde\u001b[49m\u001b[43m(\u001b[49m\u001b[43mlapl_f\u001b[49m\u001b[43m)\u001b[49m\n",
      "File \u001b[0;32m~/Desktop/fdapde-py/.venv/lib/python3.10/site-packages/fdapdepy/pde.py:38\u001b[0m, in \u001b[0;36mpde.__init__\u001b[0;34m(self, operator, force)\u001b[0m\n\u001b[1;32m     35\u001b[0m params \u001b[38;5;241m=\u001b[39m pde_params(operator)\n\u001b[1;32m     37\u001b[0m \u001b[38;5;28;01mif\u001b[39;00m (\u001b[38;5;28misinstance\u001b[39m(domain, domain2d) \u001b[38;5;241m&\u001b[39m order \u001b[38;5;241m==\u001b[39m \u001b[38;5;241m1\u001b[39m):\n\u001b[0;32m---> 38\u001b[0m     \u001b[38;5;28mself\u001b[39m\u001b[38;5;241m.\u001b[39m__cpp_handler \u001b[38;5;241m=\u001b[39m \u001b[43mcpp_pde_2_2_1\u001b[49m\u001b[43m(\u001b[49m\u001b[43mdomain\u001b[49m\u001b[43m,\u001b[49m\u001b[43m \u001b[49m\u001b[38;5;28;43mtype\u001b[39;49m\u001b[43m,\u001b[49m\u001b[43m \u001b[49m\u001b[43mparams\u001b[49m\u001b[43m)\u001b[49m\n\u001b[1;32m     39\u001b[0m \u001b[38;5;28;01melif\u001b[39;00m (\u001b[38;5;28misinstance\u001b[39m(domain, domain2d) \u001b[38;5;241m&\u001b[39m order \u001b[38;5;241m==\u001b[39m \u001b[38;5;241m2\u001b[39m):\n\u001b[1;32m     40\u001b[0m     \u001b[38;5;28mself\u001b[39m\u001b[38;5;241m.\u001b[39m__cpp_handler \u001b[38;5;241m=\u001b[39m cpp_pde_2_2_2(domain, \u001b[38;5;28mtype\u001b[39m, params)\n",
      "\u001b[0;31mKeyError\u001b[0m: 'diff'"
     ]
    }
   ],
   "source": [
    "pde = fdapde.pde(lapl_f)"
   ]
  },
  {
   "cell_type": "code",
   "execution_count": null,
   "id": "cdcb9fef-df93-418a-bcf2-202dd92fda34",
   "metadata": {},
   "outputs": [],
   "source": [
    "# set dirichlet bc (è inutile in questo caso)\n",
    "#_pde.set_dirichlet_bc(u_ex)\n",
    "\n",
    "print( set(lapl_f.params.keys()) & set((\"laplacian\", \"dt\")) == 'laplacian' )\n",
    "print(\"dt\" in (\"laplacian\", \"dt\")) "
   ]
  },
  {
   "cell_type": "code",
   "execution_count": null,
   "id": "c08515f3-7a44-44d8-ac3e-182e9916d9ac",
   "metadata": {},
   "outputs": [],
   "source": [
    "# set forcing\n",
    "quad_nodes = _pde.get_quadrature_nodes()\n",
    "forcing = (1+np.pi*np.pi) * np.sin(np.pi * quad_nodes[:,0]) * np.sin(np.pi*quad_nodes[:,1])\n",
    "_pde.set_forcing(forcing)"
   ]
  },
  {
   "cell_type": "code",
   "execution_count": null,
   "id": "3a8bf6cf-ac28-4b39-a69f-86b79625c54b",
   "metadata": {},
   "outputs": [],
   "source": [
    "# init\n",
    "_pde.init()"
   ]
  },
  {
   "cell_type": "code",
   "execution_count": null,
   "id": "a4626960-eb08-44a9-b15b-079aed52816a",
   "metadata": {},
   "outputs": [],
   "source": [
    "# compute solution\n",
    "from scipy import sparse\n",
    "print(_pde.stiff().shape)\n",
    "print(_pde.force().shape)"
   ]
  },
  {
   "cell_type": "code",
   "execution_count": null,
   "id": "50916ce0-a337-4821-a9b2-a9c187962c3d",
   "metadata": {},
   "outputs": [],
   "source": [
    "# set dirichlet bc\n",
    "stiff = sparse.csr_matrix(_pde.stiff())\n",
    "rhs = _pde.force()\n",
    "for i in range(0, (len(boundary)-1)):\n",
    "    stiff[i,:] = 0. * stiff[i,:]\n",
    "    stiff[i,i] = 1.\n",
    "    rhs[i] = u_ex[i]"
   ]
  },
  {
   "cell_type": "code",
   "execution_count": null,
   "id": "fe4e8140-5b07-4d39-989b-37d7e1897098",
   "metadata": {},
   "outputs": [],
   "source": []
  },
  {
   "cell_type": "code",
   "execution_count": null,
   "id": "83c336cb-b014-4b1b-a6a4-bdb34470f838",
   "metadata": {},
   "outputs": [],
   "source": [
    "sol = sparse.linalg.spsolve(stiff, rhs)\n",
    "\n",
    "print(\"err_l_inf = \", np.max(np.abs(sol - u_ex))) # :)"
   ]
  }
 ],
 "metadata": {
  "kernelspec": {
   "display_name": "Python 3 (ipykernel)",
   "language": "python",
   "name": "python3"
  },
  "language_info": {
   "codemirror_mode": {
    "name": "ipython",
    "version": 3
   },
   "file_extension": ".py",
   "mimetype": "text/x-python",
   "name": "python",
   "nbconvert_exporter": "python",
   "pygments_lexer": "ipython3",
   "version": "3.10.12"
  }
 },
 "nbformat": 4,
 "nbformat_minor": 5
}
