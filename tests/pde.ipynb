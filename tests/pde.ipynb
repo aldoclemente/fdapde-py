{
 "cells": [
  {
   "cell_type": "code",
   "execution_count": 1,
   "id": "8516fde4-45da-4bfb-b6d3-8ed0b61d70e2",
   "metadata": {},
   "outputs": [],
   "source": [
    "import fdapdepy as fdapde\n",
    "import numpy as np\n",
    "\n",
    "import matplotlib.pyplot as plt\n",
    "from matplotlib.tri import Triangulation\n",
    "\n",
    "# mesh\n",
    "nodes = np.loadtxt(\"unit_square/points.txt\", dtype=float)\n",
    "triangles = np.loadtxt(\"unit_square/elements.txt\", dtype=int)\n",
    "triangles = triangles - 1 # sempre stessa storia\n",
    "boundary = np.loadtxt(\"unit_square/boundary.txt\", dtype=int)\n",
    "nodes.shape\n",
    "\n",
    "mesh = fdapde.domain(nodes, triangles, boundary)\n",
    "basis = fdapde.functional_basis(mesh, 1)\n"
   ]
  },
  {
   "cell_type": "code",
   "execution_count": 2,
   "id": "19c887b2-6fb6-47ac-b9b3-0d4ae0946d35",
   "metadata": {},
   "outputs": [],
   "source": [
    "pde_params = {\"diff\": 1.}"
   ]
  },
  {
   "cell_type": "code",
   "execution_count": 3,
   "id": "5119fa11-5d74-4bd0-8815-64fd6dc53b4d",
   "metadata": {},
   "outputs": [],
   "source": [
    "# pde_type = 1 simple laplacian\n",
    "# -lapl(u) = f\n",
    "#  u = 0 \n",
    "# u_ex = sin(pi x) sin(pi y)\n",
    "u_ex = np.sin(np.pi * mesh.nodes()[:,0]) * np.sin(np.pi*mesh.nodes()[:,1])"
   ]
  },
  {
   "cell_type": "code",
   "execution_count": 4,
   "id": "7c550af0-8f78-4426-a4cf-be11bdf14ec4",
   "metadata": {},
   "outputs": [],
   "source": [
    "pde_type = 1\n",
    "_pde = fdapde.cpp_pde_2_2_1(mesh, 1, pde_params)"
   ]
  },
  {
   "cell_type": "code",
   "execution_count": 5,
   "id": "cdcb9fef-df93-418a-bcf2-202dd92fda34",
   "metadata": {},
   "outputs": [],
   "source": [
    "# set dirichlet bc (è inutile in questo caso)\n",
    "_pde.set_dirichlet_bc(u_ex)"
   ]
  },
  {
   "cell_type": "code",
   "execution_count": 6,
   "id": "c08515f3-7a44-44d8-ac3e-182e9916d9ac",
   "metadata": {},
   "outputs": [],
   "source": [
    "# set forcing\n",
    "quad_nodes = _pde.get_quadrature_nodes()\n",
    "forcing = (1+np.pi*np.pi) * np.sin(np.pi * quad_nodes[:,0]) * np.sin(np.pi*quad_nodes[:,1])\n",
    "_pde.set_forcing(forcing)"
   ]
  },
  {
   "cell_type": "code",
   "execution_count": 7,
   "id": "3a8bf6cf-ac28-4b39-a69f-86b79625c54b",
   "metadata": {},
   "outputs": [],
   "source": [
    "# init\n",
    "_pde.init()"
   ]
  },
  {
   "cell_type": "code",
   "execution_count": 8,
   "id": "a4626960-eb08-44a9-b15b-079aed52816a",
   "metadata": {},
   "outputs": [
    {
     "name": "stdout",
     "output_type": "stream",
     "text": [
      "(10201, 10201)\n",
      "(10201, 1)\n"
     ]
    }
   ],
   "source": [
    "# compute solution\n",
    "from scipy import sparse\n",
    "print(_pde.stiff().shape)\n",
    "print(_pde.force().shape)"
   ]
  },
  {
   "cell_type": "code",
   "execution_count": 11,
   "id": "50916ce0-a337-4821-a9b2-a9c187962c3d",
   "metadata": {},
   "outputs": [],
   "source": [
    "# set dirichlet bc\n",
    "stiff = sparse.csr_matrix(_pde.stiff())\n",
    "rhs = _pde.force()\n",
    "for i in range(0, (len(boundary)-1)):\n",
    "    stiff[i,:] = 0. * stiff[i,:]\n",
    "    stiff[i,i] = 1.\n",
    "    rhs[i] = u_ex[i]"
   ]
  },
  {
   "cell_type": "code",
   "execution_count": null,
   "id": "fe4e8140-5b07-4d39-989b-37d7e1897098",
   "metadata": {},
   "outputs": [],
   "source": []
  },
  {
   "cell_type": "code",
   "execution_count": 12,
   "id": "83c336cb-b014-4b1b-a6a4-bdb34470f838",
   "metadata": {},
   "outputs": [
    {
     "name": "stdout",
     "output_type": "stream",
     "text": [
      "err_l_inf =  5.462518053803086e-08\n"
     ]
    }
   ],
   "source": [
    "sol = sparse.linalg.spsolve(stiff, rhs)\n",
    "\n",
    "print(\"err_l_inf = \", np.max(np.abs(sol - u_ex))) # :)"
   ]
  }
 ],
 "metadata": {
  "kernelspec": {
   "display_name": "Python 3 (ipykernel)",
   "language": "python",
   "name": "python3"
  },
  "language_info": {
   "codemirror_mode": {
    "name": "ipython",
    "version": 3
   },
   "file_extension": ".py",
   "mimetype": "text/x-python",
   "name": "python",
   "nbconvert_exporter": "python",
   "pygments_lexer": "ipython3",
   "version": "3.10.12"
  }
 },
 "nbformat": 4,
 "nbformat_minor": 5
}
