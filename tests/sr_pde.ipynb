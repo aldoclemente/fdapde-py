{
 "cells": [
  {
   "cell_type": "code",
   "execution_count": 1,
   "id": "109ec20e-6f04-4aee-a867-5d40d3291d7a",
   "metadata": {},
   "outputs": [],
   "source": [
    "import fdapdepy as fdapde\n",
    "import numpy as np\n",
    "\n",
    "import matplotlib.pyplot as plt\n",
    "from matplotlib.tri import Triangulation"
   ]
  },
  {
   "cell_type": "code",
   "execution_count": 2,
   "id": "b1ae8268-5afb-48d8-9e8b-5304931da6c1",
   "metadata": {},
   "outputs": [],
   "source": [
    "# mesh\n",
    "nodes = np.loadtxt(\"unit_square/points.txt\", dtype=float)\n",
    "triangles = np.loadtxt(\"unit_square/elements.txt\", dtype=int)\n",
    "triangles = triangles - 1 # sempre stessa storia\n",
    "boundary = np.loadtxt(\"unit_square/boundary.txt\", dtype=int)\n",
    "nodes.shape\n",
    "\n",
    "mesh = fdapde.domain(nodes, triangles, boundary)"
   ]
  },
  {
   "cell_type": "code",
   "execution_count": null,
   "id": "c9ff525c-6225-4f12-9fab-59149f876f72",
   "metadata": {},
   "outputs": [],
   "source": [
    "triangulation = Triangulation(mesh.nodes()[:,0], mesh.nodes()[:,1], mesh.triangles())\n",
    "\n",
    "fig, ax = plt.subplots()\n",
    "ax.triplot(triangulation)"
   ]
  },
  {
   "cell_type": "code",
   "execution_count": null,
   "id": "a317acbd-1204-4339-9347-3ffb5b8132b8",
   "metadata": {},
   "outputs": [],
   "source": [
    "dir(fdapde)"
   ]
  },
  {
   "cell_type": "code",
   "execution_count": 5,
   "id": "c4ac010c-a534-484a-9b00-735fe2679a9c",
   "metadata": {},
   "outputs": [
    {
     "name": "stdout",
     "output_type": "stream",
     "text": [
      "OK\n"
     ]
    }
   ],
   "source": [
    "basis = fdapde.cpp_lagrange_basis_2d_fe1(mesh, 1)"
   ]
  },
  {
   "cell_type": "code",
   "execution_count": 6,
   "id": "b93b004f-5306-403c-ae2a-63357ab2b9e0",
   "metadata": {},
   "outputs": [
    {
     "data": {
      "text/plain": [
       "10201"
      ]
     },
     "execution_count": 6,
     "metadata": {},
     "output_type": "execute_result"
    }
   ],
   "source": [
    "basis.size()"
   ]
  },
  {
   "cell_type": "code",
   "execution_count": 14,
   "id": "8bd34e92-813d-4b34-9789-14429d0ef0b0",
   "metadata": {},
   "outputs": [
    {
     "data": {
      "text/plain": [
       "0.500000000000003"
      ]
     },
     "execution_count": 14,
     "metadata": {},
     "output_type": "execute_result"
    }
   ],
   "source": [
    "basis.integrate(mesh.nodes()[:,0])\n"
   ]
  },
  {
   "cell_type": "code",
   "execution_count": 10,
   "id": "dc9e08fb-4fda-4252-8255-dca452d864cf",
   "metadata": {},
   "outputs": [
    {
     "data": {
      "text/plain": [
       "(20000, 3)"
      ]
     },
     "execution_count": 10,
     "metadata": {},
     "output_type": "execute_result"
    }
   ],
   "source": []
  }
 ],
 "metadata": {
  "kernelspec": {
   "display_name": "Python 3 (ipykernel)",
   "language": "python",
   "name": "python3"
  },
  "language_info": {
   "codemirror_mode": {
    "name": "ipython",
    "version": 3
   },
   "file_extension": ".py",
   "mimetype": "text/x-python",
   "name": "python",
   "nbconvert_exporter": "python",
   "pygments_lexer": "ipython3",
   "version": "3.10.12"
  }
 },
 "nbformat": 4,
 "nbformat_minor": 5
}
