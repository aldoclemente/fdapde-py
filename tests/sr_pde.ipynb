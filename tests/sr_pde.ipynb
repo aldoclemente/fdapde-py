{
 "cells": [
  {
   "cell_type": "code",
   "execution_count": 1,
   "id": "109ec20e-6f04-4aee-a867-5d40d3291d7a",
   "metadata": {},
   "outputs": [],
   "source": [
    "import fdapdepy as fdapde\n",
    "import numpy as np\n",
    "import copy\n",
    "\n",
    "import matplotlib.pyplot as plt\n",
    "from matplotlib.tri import Triangulation"
   ]
  },
  {
   "cell_type": "code",
   "execution_count": 4,
   "id": "b1ae8268-5afb-48d8-9e8b-5304931da6c1",
   "metadata": {},
   "outputs": [
    {
     "data": {
      "text/plain": [
       "fdapdepy.domain.domain2d"
      ]
     },
     "execution_count": 4,
     "metadata": {},
     "output_type": "execute_result"
    }
   ],
   "source": [
    "# mesh\n",
    "nodes = np.loadtxt(\"unit_square/points.txt\", dtype=float)\n",
    "triangles = np.loadtxt(\"unit_square/elements.txt\", dtype=int)\n",
    "triangles = triangles - 1 # sempre stessa storia\n",
    "boundary = np.loadtxt(\"unit_square/boundary.txt\", dtype=int)\n",
    "nodes.shape\n",
    "\n",
    "mesh = fdapde.domain(nodes, triangles, boundary)\n",
    "\n",
    "type(mesh)"
   ]
  },
  {
   "cell_type": "code",
   "execution_count": 3,
   "id": "c9ff525c-6225-4f12-9fab-59149f876f72",
   "metadata": {},
   "outputs": [
    {
     "ename": "AttributeError",
     "evalue": "'domain2d' object has no attribute '_domain__cpp_handler'",
     "output_type": "error",
     "traceback": [
      "\u001b[0;31m---------------------------------------------------------------------------\u001b[0m",
      "\u001b[0;31mAttributeError\u001b[0m                            Traceback (most recent call last)",
      "Cell \u001b[0;32mIn[3], line 1\u001b[0m\n\u001b[0;32m----> 1\u001b[0m triangulation \u001b[38;5;241m=\u001b[39m Triangulation(\u001b[43mmesh\u001b[49m\u001b[38;5;241;43m.\u001b[39;49m\u001b[43mnodes\u001b[49m\u001b[43m(\u001b[49m\u001b[43m)\u001b[49m[:,\u001b[38;5;241m0\u001b[39m], mesh\u001b[38;5;241m.\u001b[39mnodes()[:,\u001b[38;5;241m1\u001b[39m], mesh\u001b[38;5;241m.\u001b[39mtriangles())\n\u001b[1;32m      3\u001b[0m fig, ax \u001b[38;5;241m=\u001b[39m plt\u001b[38;5;241m.\u001b[39msubplots()\n\u001b[1;32m      4\u001b[0m ax\u001b[38;5;241m.\u001b[39mtriplot(triangulation)\n",
      "File \u001b[0;32m~/Desktop/fdapde-py/.venv/lib/python3.10/site-packages/fdapdepy/domain.py:18\u001b[0m, in \u001b[0;36m_domain.nodes\u001b[0;34m(self)\u001b[0m\n\u001b[1;32m     17\u001b[0m \u001b[38;5;28;01mdef\u001b[39;00m \u001b[38;5;21mnodes\u001b[39m(\u001b[38;5;28mself\u001b[39m):\n\u001b[0;32m---> 18\u001b[0m     \u001b[38;5;28;01mreturn\u001b[39;00m \u001b[38;5;28;43mself\u001b[39;49m\u001b[38;5;241;43m.\u001b[39;49m\u001b[43m__cpp_handler\u001b[49m\u001b[38;5;241m.\u001b[39mnodes()\n",
      "\u001b[0;31mAttributeError\u001b[0m: 'domain2d' object has no attribute '_domain__cpp_handler'"
     ]
    }
   ],
   "source": [
    "\n",
    "\n",
    "triangulation = Triangulation(mesh.nodes()[:,0], mesh.nodes()[:,1], mesh.triangles())\n",
    "\n",
    "fig, ax = plt.subplots()\n",
    "ax.triplot(triangulation)"
   ]
  },
  {
   "cell_type": "code",
   "execution_count": null,
   "id": "a317acbd-1204-4339-9347-3ffb5b8132b8",
   "metadata": {},
   "outputs": [],
   "source": [
    "dir(fdapde)"
   ]
  },
  {
   "cell_type": "code",
   "execution_count": null,
   "id": "c4ac010c-a534-484a-9b00-735fe2679a9c",
   "metadata": {},
   "outputs": [],
   "source": [
    "basis = fdapde.functional_basis(mesh, 1)\n",
    "basis.size()\n",
    "locs = np.random.rand(100,2)\n",
    "locs.shape"
   ]
  },
  {
   "cell_type": "code",
   "execution_count": null,
   "id": "e5023eb6-f177-456b-8bf4-10b12deccf01",
   "metadata": {},
   "outputs": [],
   "source": [
    "# Psi nlocs x nlocs\n",
    "Psi = basis.eval(locs)\n",
    "Psi.shape\n",
    "\n",
    "basis.dofs_coordinates().shape"
   ]
  },
  {
   "cell_type": "code",
   "execution_count": null,
   "id": "b93b004f-5306-403c-ae2a-63357ab2b9e0",
   "metadata": {},
   "outputs": [],
   "source": [
    "f = fdapde.function(basis)\n",
    "\n",
    "coeffs = np.random.rand(basis.size(),1)\n",
    "\n",
    "coeffs.shape"
   ]
  },
  {
   "cell_type": "code",
   "execution_count": null,
   "id": "5702786b-9106-4023-98ed-f39b5afd0cc5",
   "metadata": {},
   "outputs": [],
   "source": [
    "f.coefficients"
   ]
  },
  {
   "cell_type": "code",
   "execution_count": null,
   "id": "8bd34e92-813d-4b34-9789-14429d0ef0b0",
   "metadata": {},
   "outputs": [],
   "source": [
    "f.coefficients.shape[0]"
   ]
  },
  {
   "cell_type": "code",
   "execution_count": null,
   "id": "dc9e08fb-4fda-4252-8255-dca452d864cf",
   "metadata": {},
   "outputs": [],
   "source": [
    "f.coefficients = np.random.rand( basis.size(), 1) # ok\n",
    "print(f.coefficients)\n",
    "f.coefficients = np.zeros((basis.size(), 1))\n",
    "\n",
    "f.coefficients = np.random.rand( 2 , 1 ) # wrong ! \n",
    "print(f.coefficients) # :)"
   ]
  },
  {
   "cell_type": "code",
   "execution_count": null,
   "id": "ae844a28-fbf7-40e8-9a36-2c58fb02dc04",
   "metadata": {},
   "outputs": [],
   "source": [
    "g = f\n",
    "print(g == f)\n",
    "print(id(g), \" \", id(f))"
   ]
  },
  {
   "cell_type": "code",
   "execution_count": null,
   "id": "a18dcbc9-9715-4893-a6a4-b0ef358ca27c",
   "metadata": {},
   "outputs": [],
   "source": [
    "Lf = -fdapde.laplacian(f)  \n",
    "params = copy.deepcopy(Lf.params)\n"
   ]
  },
  {
   "cell_type": "code",
   "execution_count": null,
   "id": "2f166445-d0f3-4e37-a041-5aafcc2cbf9b",
   "metadata": {},
   "outputs": [],
   "source": [
    "print(Lf.params)"
   ]
  },
  {
   "cell_type": "code",
   "execution_count": null,
   "id": "76bcd4da-b8c3-491a-bb0e-e4fefbe368b6",
   "metadata": {},
   "outputs": [],
   "source": [
    "Lf = -fdapde.laplacian(f) + 2*Lf\n",
    "print(Lf.params)\n",
    "print(params)"
   ]
  },
  {
   "cell_type": "code",
   "execution_count": null,
   "id": "3a900fbc-88bd-4e0d-8787-41dd2a9b5a23",
   "metadata": {},
   "outputs": [],
   "source": [
    "print(Lf.params)\n",
    "\n",
    "Lu = 2*Lf\n",
    "print(\"Lu :\", Lu.params)\n",
    "print(\"Lf :\", Lf.params)"
   ]
  },
  {
   "cell_type": "code",
   "execution_count": null,
   "id": "de3962fa-31c4-43c5-bee7-4f5bc0a8245a",
   "metadata": {},
   "outputs": [],
   "source": [
    "print(Lf.params)\n",
    "tmp = 2*Lf\n",
    "print(tmp.params)\n",
    "Lf*2\n",
    "print(Lf.params)\n",
    "print(params)"
   ]
  },
  {
   "cell_type": "code",
   "execution_count": null,
   "id": "82ac93e6-d749-48cd-8c0e-b3b6d7062d86",
   "metadata": {},
   "outputs": [],
   "source": []
  },
  {
   "cell_type": "code",
   "execution_count": null,
   "id": "b3bfe256-0c9f-4a75-a4b0-97afa666efb5",
   "metadata": {},
   "outputs": [],
   "source": []
  },
  {
   "cell_type": "code",
   "execution_count": null,
   "id": "47411a75-7dcf-4ffc-9f5c-8814427ddcad",
   "metadata": {},
   "outputs": [],
   "source": [
    "tmp = None\n",
    "\n"
   ]
  }
 ],
 "metadata": {
  "kernelspec": {
   "display_name": "Python 3 (ipykernel)",
   "language": "python",
   "name": "python3"
  },
  "language_info": {
   "codemirror_mode": {
    "name": "ipython",
    "version": 3
   },
   "file_extension": ".py",
   "mimetype": "text/x-python",
   "name": "python",
   "nbconvert_exporter": "python",
   "pygments_lexer": "ipython3",
   "version": "3.10.12"
  }
 },
 "nbformat": 4,
 "nbformat_minor": 5
}
