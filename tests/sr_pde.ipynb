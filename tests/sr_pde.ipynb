{
 "cells": [
  {
   "cell_type": "code",
   "execution_count": null,
   "id": "109ec20e-6f04-4aee-a867-5d40d3291d7a",
   "metadata": {},
   "outputs": [],
   "source": [
    "import fdapdepy as fdapde\n",
    "import numpy as np\n",
    "\n",
    "import matplotlib.pyplot as plt\n",
    "from matplotlib.tri import Triangulation"
   ]
  },
  {
   "cell_type": "code",
   "execution_count": null,
   "id": "b1ae8268-5afb-48d8-9e8b-5304931da6c1",
   "metadata": {},
   "outputs": [],
   "source": [
    "# mesh\n",
    "nodes = np.loadtxt(\"unit_square/points.txt\", dtype=float)\n",
    "triangles = np.loadtxt(\"unit_square/elements.txt\", dtype=int)\n",
    "triangles = triangles - 1 # sempre stessa storia\n",
    "boundary = np.loadtxt(\"unit_square/boundary.txt\", dtype=int)\n",
    "nodes.shape\n",
    "\n",
    "mesh = fdapde.domain(nodes, triangles, boundary)\n",
    "\n",
    "type(mesh)"
   ]
  },
  {
   "cell_type": "code",
   "execution_count": null,
   "id": "c9ff525c-6225-4f12-9fab-59149f876f72",
   "metadata": {},
   "outputs": [],
   "source": [
    "triangulation = Triangulation(mesh.nodes()[:,0], mesh.nodes()[:,1], mesh.elements())\n",
    "\n",
    "fig, ax = plt.subplots()\n",
    "ax.triplot(triangulation)"
   ]
  },
  {
   "cell_type": "code",
   "execution_count": null,
   "id": "c4ac010c-a534-484a-9b00-735fe2679a9c",
   "metadata": {},
   "outputs": [],
   "source": [
    "basis = fdapde.functional_basis(mesh, 1)\n",
    "basis.size()\n",
    "# non parametric comp\n",
    "f = fdapde.function(basis)"
   ]
  },
  {
   "cell_type": "code",
   "execution_count": null,
   "id": "a18dcbc9-9715-4893-a6a4-b0ef358ca27c",
   "metadata": {},
   "outputs": [],
   "source": [
    "Lf = -fdapde.laplacian(f)  \n",
    "penalty = fdapde.pde(Lf) # forcing == 0."
   ]
  },
  {
   "cell_type": "code",
   "execution_count": null,
   "id": "b3bfe256-0c9f-4a75-a4b0-97afa666efb5",
   "metadata": {},
   "outputs": [],
   "source": [
    "u_ex = np.sin(np.pi*mesh.nodes()[:,0]) * np.sin(np.pi*mesh.nodes()[:,1])\n",
    "u_ex = u_ex.reshape((u_ex.shape[0],1))\n",
    "obs = u_ex + 0.05 * np.random.randn(nodes.shape[0],1)"
   ]
  },
  {
   "cell_type": "code",
   "execution_count": null,
   "id": "a400a943-c954-4a8e-8832-c4a717f65306",
   "metadata": {},
   "outputs": [],
   "source": [
    "model = fdapde.srpde(y=obs, data=None, penalty=penalty)\n",
    "\n",
    "gcv_ = fdapde.gcv(lambda_= np.array([1e-5, 1e-4,1e-3, 1e-2, 1e-1, 1]).reshape(6,1))"
   ]
  },
  {
   "cell_type": "code",
   "execution_count": null,
   "id": "7b3151ec-88b3-4182-a24d-703cc0abbd4e",
   "metadata": {},
   "outputs": [],
   "source": [
    "gcv_"
   ]
  },
  {
   "cell_type": "code",
   "execution_count": null,
   "id": "5e15f096-89be-44ea-aef0-417b37db6208",
   "metadata": {},
   "outputs": [],
   "source": [
    "model.fit(calibration = gcv_)"
   ]
  },
  {
   "cell_type": "code",
   "execution_count": null,
   "id": "852855cb-cf1f-4b9a-9520-744d1fd75631",
   "metadata": {},
   "outputs": [],
   "source": [
    "print(model.optimal_lambda())\n",
    "print(model.f().shape)\n",
    "print(u_ex.shape)\n",
    "def rmse(x,y):\n",
    "    return np.sqrt( np.mean( (x-y)*(x-y) ))\n",
    "    \n",
    "print(\"err_l_inf = \", np.max(np.abs(model.f() - u_ex.reshape(-1))))\n",
    "print(\"err_l_2 = \", rmse( model.f(), u_ex.reshape(-1)))"
   ]
  },
  {
   "cell_type": "code",
   "execution_count": null,
   "id": "e528c5ea-9763-4b06-aa53-52acb5ddab55",
   "metadata": {},
   "outputs": [],
   "source": [
    "#plt.figure(figsize=(20,12))\n",
    "#plt.style.use('_mpl-gallery-nogrid')\n",
    "\n",
    "fig, ax = plt.subplots(1,2)\n",
    "#ax.plot(nodes[:,0], nodes[:,1], markersize=, color='grey')\n",
    "ax[0].tripcolor(nodes[:,0], nodes[:,1], u_ex.reshape(-1))\n",
    "ax[0].set(xlim=(0, 1), ylim=(0, 1))\n",
    "\n",
    "ax[1].tripcolor(nodes[:,0], nodes[:,1], model.f().reshape(-1))\n",
    "ax[1].set(xlim=(0, 1), ylim=(0, 1))\n",
    "plt.show()"
   ]
  },
  {
   "cell_type": "code",
   "execution_count": null,
   "id": "0357c178-8867-4135-ab10-43680529b7d1",
   "metadata": {},
   "outputs": [],
   "source": [
    "fig, ax = plt.subplots(1,2)\n",
    "#ax.plot(nodes[:,0], nodes[:,1], markersize=, color='grey')\n",
    "ax[0].tricontourf(nodes[:,0], nodes[:,1], u_ex.reshape(-1))\n",
    "ax[0].set(xlim=(0, 1), ylim=(0, 1))\n",
    "\n",
    "ax[1].tricontourf(nodes[:,0], nodes[:,1], model.f().reshape(-1))\n",
    "ax[1].set(xlim=(0, 1), ylim=(0, 1))\n",
    "plt.show()"
   ]
  },
  {
   "cell_type": "code",
   "execution_count": null,
   "id": "8f83ed98-1dc6-4bbb-a9f1-e3e5f44dde96",
   "metadata": {},
   "outputs": [],
   "source": [
    "### --- formula \n",
    "import pandas as pd\n",
    "data = pd.DataFrame(obs, columns=[\"y\"])"
   ]
  },
  {
   "cell_type": "code",
   "execution_count": null,
   "id": "9029d920-1b54-432f-9c8e-cf4379ee959a",
   "metadata": {},
   "outputs": [],
   "source": [
    "model = fdapde.srpde(formula=\"y ~ f\", data=data, \n",
    "                     penalty=penalty)\n",
    "gcv_ = fdapde.gcv(lambda_= np.array([1e-5, 1e-4,1e-3, 1e-2, 1e-1, 1]).reshape(6,1))\n",
    "model.fit(calibration = gcv_)\n",
    "print(\"err_l_inf = \", np.max(np.abs(model.f() - u_ex.reshape(-1))))\n",
    "print(\"err_l_2 = \", rmse( model.f(), u_ex.reshape(-1)))\n",
    "\n",
    "fig, ax = plt.subplots(1,2)\n",
    "ax[0].tripcolor(nodes[:,0], nodes[:,1], u_ex.reshape(-1))\n",
    "ax[0].set(xlim=(0, 1), ylim=(0, 1))\n",
    "\n",
    "ax[1].tripcolor(nodes[:,0], nodes[:,1], model.f().reshape(-1))\n",
    "ax[1].set(xlim=(0, 1), ylim=(0, 1))\n",
    "plt.show()"
   ]
  }
 ],
 "metadata": {
  "kernelspec": {
   "display_name": "Python 3 (ipykernel)",
   "language": "python",
   "name": "python3"
  },
  "language_info": {
   "codemirror_mode": {
    "name": "ipython",
    "version": 3
   },
   "file_extension": ".py",
   "mimetype": "text/x-python",
   "name": "python",
   "nbconvert_exporter": "python",
   "pygments_lexer": "ipython3",
   "version": "3.10.12"
  }
 },
 "nbformat": 4,
 "nbformat_minor": 5
}
