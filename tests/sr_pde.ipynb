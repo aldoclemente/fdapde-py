{
 "cells": [
  {
   "cell_type": "code",
   "execution_count": 1,
   "id": "109ec20e-6f04-4aee-a867-5d40d3291d7a",
   "metadata": {},
   "outputs": [],
   "source": [
    "import fdapdepy as fdapde\n",
    "import numpy as np\n",
    "import copy\n",
    "\n",
    "import matplotlib.pyplot as plt\n",
    "from matplotlib.tri import Triangulation"
   ]
  },
  {
   "cell_type": "code",
   "execution_count": 2,
   "id": "b1ae8268-5afb-48d8-9e8b-5304931da6c1",
   "metadata": {},
   "outputs": [],
   "source": [
    "# mesh\n",
    "nodes = np.loadtxt(\"unit_square/points.txt\", dtype=float)\n",
    "triangles = np.loadtxt(\"unit_square/elements.txt\", dtype=int)\n",
    "triangles = triangles - 1 # sempre stessa storia\n",
    "boundary = np.loadtxt(\"unit_square/boundary.txt\", dtype=int)\n",
    "nodes.shape\n",
    "\n",
    "mesh = fdapde.domain(nodes, triangles, boundary)"
   ]
  },
  {
   "cell_type": "code",
   "execution_count": null,
   "id": "c9ff525c-6225-4f12-9fab-59149f876f72",
   "metadata": {},
   "outputs": [],
   "source": [
    "triangulation = Triangulation(mesh.nodes()[:,0], mesh.nodes()[:,1], mesh.triangles())\n",
    "\n",
    "fig, ax = plt.subplots()\n",
    "ax.triplot(triangulation)"
   ]
  },
  {
   "cell_type": "code",
   "execution_count": null,
   "id": "a317acbd-1204-4339-9347-3ffb5b8132b8",
   "metadata": {},
   "outputs": [],
   "source": [
    "dir(fdapde)"
   ]
  },
  {
   "cell_type": "code",
   "execution_count": 3,
   "id": "c4ac010c-a534-484a-9b00-735fe2679a9c",
   "metadata": {},
   "outputs": [
    {
     "data": {
      "text/plain": [
       "(100, 2)"
      ]
     },
     "execution_count": 3,
     "metadata": {},
     "output_type": "execute_result"
    }
   ],
   "source": [
    "basis = fdapde.functional_basis(mesh, 1)\n",
    "basis.size()\n",
    "locs = np.random.rand(100,2)\n",
    "locs.shape"
   ]
  },
  {
   "cell_type": "code",
   "execution_count": 4,
   "id": "e5023eb6-f177-456b-8bf4-10b12deccf01",
   "metadata": {},
   "outputs": [
    {
     "data": {
      "text/plain": [
       "(10201, 2)"
      ]
     },
     "execution_count": 4,
     "metadata": {},
     "output_type": "execute_result"
    }
   ],
   "source": [
    "# Psi nlocs x nlocs\n",
    "Psi = basis.eval(locs)\n",
    "Psi.shape\n",
    "\n",
    "basis.dofs_coordinates().shape"
   ]
  },
  {
   "cell_type": "code",
   "execution_count": 5,
   "id": "b93b004f-5306-403c-ae2a-63357ab2b9e0",
   "metadata": {},
   "outputs": [
    {
     "data": {
      "text/plain": [
       "(10201, 1)"
      ]
     },
     "execution_count": 5,
     "metadata": {},
     "output_type": "execute_result"
    }
   ],
   "source": [
    "f = fdapde.function(basis)\n",
    "\n",
    "coeffs = np.random.rand(basis.size(),1)\n",
    "\n",
    "coeffs.shape"
   ]
  },
  {
   "cell_type": "code",
   "execution_count": null,
   "id": "5702786b-9106-4023-98ed-f39b5afd0cc5",
   "metadata": {},
   "outputs": [],
   "source": [
    "f.coefficients"
   ]
  },
  {
   "cell_type": "code",
   "execution_count": null,
   "id": "8bd34e92-813d-4b34-9789-14429d0ef0b0",
   "metadata": {},
   "outputs": [],
   "source": [
    "f.coefficients.shape[0]"
   ]
  },
  {
   "cell_type": "code",
   "execution_count": null,
   "id": "dc9e08fb-4fda-4252-8255-dca452d864cf",
   "metadata": {},
   "outputs": [],
   "source": [
    "f.coefficients = np.random.rand( basis.size(), 1) # ok\n",
    "print(f.coefficients)\n",
    "f.coefficients = np.zeros((basis.size(), 1))\n",
    "\n",
    "f.coefficients = np.random.rand( 2 , 1 ) # wrong ! \n",
    "print(f.coefficients) # :)"
   ]
  },
  {
   "cell_type": "code",
   "execution_count": null,
   "id": "ae844a28-fbf7-40e8-9a36-2c58fb02dc04",
   "metadata": {},
   "outputs": [],
   "source": [
    "g = f\n",
    "print(g == f)\n",
    "print(id(g), \" \", id(f))"
   ]
  },
  {
   "cell_type": "code",
   "execution_count": 10,
   "id": "a18dcbc9-9715-4893-a6a4-b0ef358ca27c",
   "metadata": {},
   "outputs": [],
   "source": [
    "Lf = -fdapde.laplacian(f)  \n",
    "params = copy.deepcopy(Lf.params)\n"
   ]
  },
  {
   "cell_type": "code",
   "execution_count": 11,
   "id": "2f166445-d0f3-4e37-a041-5aafcc2cbf9b",
   "metadata": {},
   "outputs": [
    {
     "name": "stdout",
     "output_type": "stream",
     "text": [
      "{'laplacian': -1.0}\n"
     ]
    }
   ],
   "source": [
    "print(Lf.params)"
   ]
  },
  {
   "cell_type": "code",
   "execution_count": 12,
   "id": "76bcd4da-b8c3-491a-bb0e-e4fefbe368b6",
   "metadata": {},
   "outputs": [
    {
     "name": "stdout",
     "output_type": "stream",
     "text": [
      "{'laplacian': -3.0}\n",
      "{'laplacian': -1.0}\n"
     ]
    }
   ],
   "source": [
    "Lf = -fdapde.laplacian(f) + 2*Lf\n",
    "print(Lf.params)\n",
    "print(params)"
   ]
  },
  {
   "cell_type": "code",
   "execution_count": 13,
   "id": "3a900fbc-88bd-4e0d-8787-41dd2a9b5a23",
   "metadata": {},
   "outputs": [
    {
     "name": "stdout",
     "output_type": "stream",
     "text": [
      "{'laplacian': -3.0}\n",
      "Lu : {'laplacian': -6.0}\n",
      "Lf : {'laplacian': -3.0}\n"
     ]
    }
   ],
   "source": [
    "print(Lf.params)\n",
    "\n",
    "Lu = 2*Lf\n",
    "print(\"Lu :\", Lu.params)\n",
    "print(\"Lf :\", Lf.params)"
   ]
  },
  {
   "cell_type": "code",
   "execution_count": 14,
   "id": "de3962fa-31c4-43c5-bee7-4f5bc0a8245a",
   "metadata": {},
   "outputs": [
    {
     "name": "stdout",
     "output_type": "stream",
     "text": [
      "{'laplacian': -3.0}\n",
      "{'laplacian': -6.0}\n",
      "{'laplacian': -3.0}\n",
      "{'laplacian': -1.0}\n"
     ]
    }
   ],
   "source": [
    "print(Lf.params)\n",
    "tmp = 2*Lf\n",
    "print(tmp.params)\n",
    "Lf*2\n",
    "print(Lf.params)\n",
    "print(params)"
   ]
  },
  {
   "cell_type": "code",
   "execution_count": null,
   "id": "82ac93e6-d749-48cd-8c0e-b3b6d7062d86",
   "metadata": {},
   "outputs": [],
   "source": []
  },
  {
   "cell_type": "code",
   "execution_count": null,
   "id": "b3bfe256-0c9f-4a75-a4b0-97afa666efb5",
   "metadata": {},
   "outputs": [],
   "source": []
  },
  {
   "cell_type": "code",
   "execution_count": null,
   "id": "47411a75-7dcf-4ffc-9f5c-8814427ddcad",
   "metadata": {},
   "outputs": [],
   "source": []
  }
 ],
 "metadata": {
  "kernelspec": {
   "display_name": "Python 3 (ipykernel)",
   "language": "python",
   "name": "python3"
  },
  "language_info": {
   "codemirror_mode": {
    "name": "ipython",
    "version": 3
   },
   "file_extension": ".py",
   "mimetype": "text/x-python",
   "name": "python",
   "nbconvert_exporter": "python",
   "pygments_lexer": "ipython3",
   "version": "3.10.12"
  }
 },
 "nbformat": 4,
 "nbformat_minor": 5
}
